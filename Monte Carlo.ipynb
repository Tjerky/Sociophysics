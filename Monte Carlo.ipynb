{
 "cells": [
  {
   "cell_type": "code",
   "execution_count": 134,
   "id": "2ef8deca",
   "metadata": {},
   "outputs": [],
   "source": [
    "import numpy as np\n",
    "import pandas as pd\n",
    "import matplotlib.pyplot as plt\n",
    "from scipy.interpolate import interp1d\n",
    "%matplotlib inline"
   ]
  },
  {
   "cell_type": "code",
   "execution_count": 149,
   "id": "4d9425ab",
   "metadata": {},
   "outputs": [],
   "source": [
    "def generate_matrix(p, v, f, n):\n",
    "    \n",
    "    H = f(p) + v    \n",
    "    M = 1/(n+n*np.exp(H.T - H))\n",
    "    np.fill_diagonal(M, (1+1/(2*n))-np.sum(M, axis=0))\n",
    "    return M\n",
    "\n",
    "frus = {0.0: 0.19636497410583642,\n",
    " 0.05: 0.060445292197843795,\n",
    " 0.1: -0.9020773978161343,\n",
    " 0.15: -2.1753780702603867,\n",
    " 0.2: -3.634652786011318,\n",
    " 0.25: -5.173470134824279,\n",
    " 0.3: -7.158298576826545,\n",
    " 0.35: -9.069072185869299,\n",
    " 0.4: -10.748394614114359,\n",
    " 0.45: -13.77357645263013,\n",
    " 0.5: -15.545895486434512,\n",
    " 0.55: -19.013925719772253,\n",
    " 0.6: -20.110548843773888,\n",
    " 0.65: -24.81920507495964,\n",
    " 0.75: -31.600307797020857,\n",
    " 0.8: -35.08989411493251}\n",
    "frus.values()\n",
    "\n",
    "f = interp1d(np.array(list(frus.keys()))*20, list(frus.values()))"
   ]
  },
  {
   "cell_type": "code",
   "execution_count": 167,
   "id": "932310cb",
   "metadata": {},
   "outputs": [],
   "source": [
    "n = 16\n",
    "\n",
    "v = np.matrix([[16.60696604146862],\n",
    " [12.944484812466825],\n",
    " [17.489381735841153],\n",
    " [14.339951913437485],\n",
    " [11.925207615767174],\n",
    " [14.627772095404278],\n",
    " [17.120767281180843],\n",
    " [17.138640295294696],\n",
    " [19.776016407244143],\n",
    " [18.423644358238306],\n",
    " [16.51434180129866],\n",
    " [4.548416657177142],\n",
    " [23.43020056494674],\n",
    " [26.804885740319435],\n",
    " [29.428316451019896],\n",
    " [26.654578981808378]])\n",
    "\n",
    "p = np.matrix(np.ones((16, 1))) * 20/16\n",
    "\n",
    "for _ in range(10):\n",
    "    p = generate_matrix(p, v, f, n) * p\n",
    "\n",
    "    \n",
    "#generate_matrix(p, v, f, n)"
   ]
  },
  {
   "cell_type": "code",
   "execution_count": 168,
   "id": "e637d97a",
   "metadata": {},
   "outputs": [
    {
     "data": {
      "text/plain": [
       "[<matplotlib.lines.Line2D at 0x21dfe8c3130>]"
      ]
     },
     "execution_count": 168,
     "metadata": {},
     "output_type": "execute_result"
    },
    {
     "data": {
      "image/png": "[encoded data removed]",
      "text/plain": [
       "<Figure size 432x288 with 1 Axes>"
      ]
     },
     "metadata": {
      "needs_background": "light"
     },
     "output_type": "display_data"
    }
   ],
   "source": [
    "plt.plot(p)"
   ]
  },
  {
   "cell_type": "code",
   "execution_count": null,
   "id": "c8a85918",
   "metadata": {},
   "outputs": [],
   "source": []
  }
 ],
 "metadata": {
  "kernelspec": {
   "display_name": "Python 3",
   "language": "python",
   "name": "python3"
  },
  "language_info": {
   "codemirror_mode": {
    "name": "ipython",
    "version": 3
   },
   "file_extension": ".py",
   "mimetype": "text/x-python",
   "name": "python",
   "nbconvert_exporter": "python",
   "pygments_lexer": "ipython3",
   "version": "3.8.8"
  }
 },
 "nbformat": 4,
 "nbformat_minor": 5
}
